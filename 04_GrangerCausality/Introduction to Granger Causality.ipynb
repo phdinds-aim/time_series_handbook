{
 "cells": [
  {
   "cell_type": "markdown",
   "metadata": {
    "id": "emGF1C650GJV"
   },
   "source": [
    "# Introduction to Granger Causality\n",
    "\n",
    "Prepared by Kristian Mamforte"
   ]
  },
  {
   "cell_type": "markdown",
   "metadata": {
    "id": "wJZJ8gTmLjHN"
   },
   "source": [
    "### 1. Introduction\n",
    "Having discussed the univariate the multivariate time series analyses, we are now ready to introduce the notion of causality between processes. In this notebook, we discuss the concept of causality proposed by the econometrician Clive W.J. Granger in 1969. This Granger Causality test is a powerful tool to detect any linear relationship between two processes and uses the familiar mathematical foundation of multivariate analysis and OLS regression to define existence of causality."
   ]
  },
  {
   "cell_type": "markdown",
   "metadata": {
    "id": "4QRBoTPwJvX-"
   },
   "source": [
    "### 2. Learning Objectives <a class=\"anchor\" id=\"chapter1\"></a>\n",
    "\n",
    "\n",
    "\n",
    "* Learn Granger Causality Test, from mathematical formulation to limits and assumptions\n",
    "* Know the steps to perform Granger Causality Test\n",
    "* Perform Granger Causality Test on actual data\n",
    "  * Does oil price affect Tesla stock price?\n",
    "  * Which of the M6 stock prices Granger cause another?"
   ]
  },
  {
   "cell_type": "markdown",
   "metadata": {
    "id": "BzjCErmVZfpG"
   },
   "source": [
    "### 3. Intuition\n",
    "\n",
    "**In a nutshell, Granger Causality** can be understood by the following. Suppose we have two different models to predict a process $Y_t$: \n",
    "\n",
    "* a model that only uses the history of $Y_t$;\n",
    "* a model that also use another variable $X_t$ aside from the history of $Y_t$\n",
    "\n",
    "The first model is just the univariate time series analysis that we are familiar with, while the second is multivariate. If the second model greatly lowered the \"error\" in prediction, then we say the $X_t$ carries a valuable information to predict the process of $Y_t$, i.e. $X_t$ Granger-causes $Y_t$. In the image below, it is depicted by a less volatile error process in blue than a more volatile error process in orange. By now you can easily see how we set up the hypothesis testing.\n",
    "\n",
    "<div>\n",
    "<img src='Granger1.png' width=\"500\"/>\n",
    "</div>\n",
    "\n",
    "Mathematically, let \n",
    "* $e_h$: forecast error obtained  by forecasting $y_{T+h}$ based on $\\mathcal{I}=\\{y_T, x_T, y_{T-1}, x_{T-1},...\\}$\\, i.e. $e_h=y_{T+h}-E(y_{T+h}|\\mathcal{I})$\n",
    "* $\\tilde{e}_h$ be the forecast error obtained by forecasting $y_{T+h}$ based on $\\tilde{\\mathcal{I}}=\\{y_T,  y_{T-1},...\\}$, i.e. $\\tilde{e}_h=y_{T+h}-E(y_{T+h}|\\tilde{\\mathcal{I}})$\n",
    "\n",
    "That is, $\\mathcal{I}$ holds additional information about another series $x$ compared to $\\tilde{\\mathcal{I}}$.\n",
    "> We say that the series $x$ Granger causes $y$ if\n",
    "$\\sigma^2(e_h)<\\sigma^2(\\tilde{e}_h)$.\n",
    "\n",
    "We will use F-test to determine goodness of fit: $F = \\frac{\\frac{\\widetilde{RSS}-RSS}{\\tilde{p}-p}}{\\frac{RSS_2}{n-p}}$.\n",
    "\n",
    "\n",
    "\n"
   ]
  },
  {
   "cell_type": "markdown",
   "metadata": {},
   "source": [
    "### 4. Mathematical Formulation of Granger Causality Test"
   ]
  },
  {
   "cell_type": "markdown",
   "metadata": {
    "id": "pVcO_P5WI_p1"
   },
   "source": [
    "\n",
    "#### Definitions <a class=\"anchor\" id=\"section_3_1\"></a>\n",
    "\n",
    "\n",
    "We begin by describing the notations. \n",
    "\n",
    "(a) $A_t$ := stationary stochastic process (at least weak stationary)\n",
    "\n",
    "(b) $\\overline{A_{t}}$:= set of past values of $A_t$ i.e. $\\{A_{t-j}:j=k,k+1,...,\\infty\\}$ for $k>=0$. \n",
    "*   $\\overline{A(k)}$ is the set of past values $A_{t-k},A_{t-k-1},...$\n",
    "* $\\bar{\\bar{A_t}}$ is the set of present and past values $A_t,A_{t-1},...$\n",
    "\n",
    "(c) $P_t(A|B)$ := optimum, unbiased, least-squares predictor of $A_t$ using the set of realized values of $B_t$.\n",
    "* $P_t(X|\\overline{X_{-1}})$is the optimum predictor of $X_t$ using only past realizations of $X_t$.\n",
    "\n",
    "(d) $\\epsilon_t(A|B)=A_t-P_t(A|B)$ := time series of prediction errors\n",
    "\n",
    "(e) $\\sigma^2(A|B)$:= variance of $\\epsilon_t(A|B)$\n",
    "\n",
    "(f) $U_t$:=all the information in the universe accumulated since time $t-1$\n",
    "\n",
    "(g) $U_t - Y_t$ := all the information $U_t$ apart from the specified stationary series $Y_t$\n",
    "\n",
    "\n",
    "\n",
    "##### Definition 1: Causality\n",
    "If $\\sigma^2(X|U) < \\sigma^2(X|\\overline{(U-Y)}$, we say that $Y$ is causing $X$, denoted by $Y_t\\Rightarrow X_t$. We say that $Y_t$ is causing $X_t$ if we are better able to predict $X_t$ using all the available information that if the information apart from $Y_t$ had been used.\n",
    "\n",
    "\n",
    "\n",
    "##### Defintion 2: Feedback\n",
    "If $\\sigma^2(X|\\overline{U})<\\sigma^2(X|\\overline{U-Y})$ and $\\sigma^2(Y|\\overline{U})<\\sigma^2(X|\\overline{U-X})$, we say that feedback is occurring, which is denoted $Y_t\\Longleftrightarrow X_t$, i.e. feedback is said to occur when $X_t$ is causing $Y_t$ and also $Y_t$ is causing $X_t$.\n",
    "\n",
    "\n",
    "\n",
    "##### Definition 3: Instantaneous Causality\n",
    "If $\\sigma^2(X|\\overline{U},\\overline{\\overline{Y}}) < \\sigma^2(X|\\overline{U})$, we say that instantaneous causality $Y_t\\Longleftrightarrow X_t$ is occurring. In other words, the current value of $X_t$ is better \"predicted\" if the present value of $Y_t$ is included in the \"prediction\" than it is not.\n",
    "\n",
    "\n",
    "\n",
    "##### Definition 4: Causality Lag\n",
    "if $Y_t\\Rightarrow X_t$, we define the (integer) lag $m$ to be the least value of $k$ such that $\\sigma^2(X|U-Y(k)) < \\sigma^2(X|U-Y(k+1))$. Thus knowing the values $Y_{t-j}, j=0,1,...,m-1$ will be of no help in improving the prediction of $X_t$."
   ]
  },
  {
   "cell_type": "markdown",
   "metadata": {
    "id": "RLbnfvh4_Tpy"
   },
   "source": [
    "### Assumptions\n",
    "\n",
    "1. $X_t$ and $Y_t$ are assumed to be stationary.\n",
    "2. $P_t(A|B)$ is already optimized.\n",
    "\n",
    "### Limitations and Notes\n",
    "1. (Granger 1969) The Granger Causality Test is dependent on the universe of information $U$ that you are in. One process can G-cause another in a universe $U$ but is not in the expanded $U'$. For example, suppose \n",
    "$X_t=A_{t-1} + ϵ_t, Y_t=A_t+α_t, Z_t=A_t+β_t$.\n",
    "\n",
    "where $A_t$ is stationary and $ϵ_t, α_t, β_t$ are all uncorellated    white-noise series with equal variances. Then within the set $D=(X_t,Y_t), Y_t\\Rightarrow X_t$ and within $D'=(X_t,Z_t), Z_t\\Rightarrow X_t$. But within the set $D=(X_t,Y_t,Z_t), Y_t\\nRightarrow X_t$ and $Z_t\\nRightarrow X_t$.\n",
    "\n",
    "2. (Granger 1969) For purely deterministic series which can be predicted exactly from its past terms such as a non-stochastic series, the defintion of causality above will fail to establish causality between two such series. For insatnce, if $X_t = bt$ and $Y_t=c(t+1)$. Then $X_t$ can be predicted exactly by $b+X_{t-1}$ or by $(b/c)Y_{t-1}$. Thus there's no way to tell if $Y_t$ is a causal factor of $X_t$ or not.\n",
    "\n",
    "3. In practice, it will not usually be possible to use completely optimum predictors, unless all sets of series are assumed to be normally distributed.\n",
    "\n",
    "4. This test only works if there is a linear relationship between the two variables; it won't be able to test any non-linear causal relationship.\n",
    "\n"
   ]
  },
  {
   "cell_type": "markdown",
   "metadata": {
    "id": "iXrYIslWGJ68"
   },
   "source": [
    "### Model\n",
    "\n",
    "Let $X_t$ and $Y_t$ be stationary time series with zero means.\n",
    "\n",
    "\n",
    "**Simple Causal Model**\n",
    "\n",
    "\n",
    "\\begin{equation}\n",
    "X_t = \\Sigma_{j=1}^{m} a_jX_{t-j} + \\Sigma_{j=1}^{m} b_jY_{t-j} + \\epsilon_t\\\\\n",
    "Y_t = \\Sigma_{j=1}^{m} c_jX_{t-j} + \\Sigma_{j=1}^{m} d_jY_{t-j} + \\eta_t\n",
    "\\end{equation}\n",
    "\n",
    "\n",
    "where $m$ is finite;\n",
    "$ \\epsilon_t, \\eta_t $are uncorrelated white-noise series, i.e. $E[\\epsilon_t,\\epsilon_s]=0=E[\\eta_t,\\eta_s]$ for $s\\neq t$.\n",
    "\n",
    "\n",
    "By the definition above, $Y_t$ Granger-causes $X_t$ if at least one of $b_j$'s are non-zero. Similarly, $X_t$ Granger-causes $Y_t$ if at least one of $c_j$'s are non-zero. There is a feedback relationship if both statements hold.\n",
    "\n",
    "\n",
    "**General causal model with instantaneous causality**\n",
    "\n",
    "\n",
    "\\begin{equation}\n",
    "X_t + b_0Y_t= \\Sigma_{j=1}^{m} a_jX_{t-j} + \\Sigma_{j=1}^{m} b_jY_{t-j} + \\epsilon_t\\\\\n",
    "Y_t +c_0X_t= \\Sigma_{j=1}^{m} c_jX_{t-j} + \\Sigma_{j=1}^{m} d_jY_{t-j} + \\eta_t\n",
    "\\end{equation}\n"
   ]
  },
  {
   "cell_type": "markdown",
   "metadata": {
    "id": "Poz4tEuHKRbP"
   },
   "source": [
    "### Hypothesis Testing\n",
    "\n",
    "We test if one series G-causes the other. \n",
    "\n",
    "> $H_0$: The series $X_t$ does not G-cause $Y_t$, (i.e. $c_j$'s are all zero)\n",
    "\\\n",
    "> $H_1$: The series $X_t$ G-causes $Y_t$ (i.e. at least one of $c_j$'s is non-zero)\n",
    "\n",
    "\n",
    "\n",
    "**Methods of Testing**\n",
    "\n",
    "\n",
    "We will use the $F$-test to test for the goodness of fit of the model and the $t$-test to test where an independent variable is statistically associated with a dependent variable."
   ]
  },
  {
   "cell_type": "markdown",
   "metadata": {
    "id": "cuyMO5TPgEKI"
   },
   "source": [
    "### Steps\n",
    "\n",
    "1. Determine if $Y_t$ and $X_t$ are stationary and if not, determine the integration (differencing) needed to be make them stationary.\n",
    "2. Determine the optimal lag length $p$.\n",
    "3. Set the null and alternative hypotheses.\n",
    "4. Calculate the test-statistics (we will use the grangercausalitytests module from statsmodels)."
   ]
  },
  {
   "cell_type": "markdown",
   "metadata": {
    "id": "1o8Ve3sdUz1V"
   },
   "source": [
    "### 4. Implementation \n",
    "Let us now try to implement this. First, we import the necessary libraries.\n"
   ]
  },
  {
   "cell_type": "code",
   "execution_count": 1,
   "metadata": {
    "id": "KNqw6G6zDr1d"
   },
   "outputs": [],
   "source": [
    "import pandas as pd\n",
    "import numpy as np\n",
    "\n",
    "import matplotlib.pyplot as plt\n",
    "%matplotlib inline\n",
    "from pandas.plotting import lag_plot\n",
    "\n",
    "from statsmodels.tsa.vector_ar.var_model import VAR\n",
    "from statsmodels.tsa.stattools import adfuller, kpss, grangercausalitytests\n",
    "\n",
    "import warnings\n",
    "warnings.filterwarnings(\"ignore\")"
   ]
  },
  {
   "cell_type": "code",
   "execution_count": 2,
   "metadata": {
    "id": "kD4JDPfjDtGQ"
   },
   "outputs": [],
   "source": [
    "def lag_plots(data_df):\n",
    "    \"\"\"\n",
    "    If our data is random, this plot will have no pattern. \n",
    "    \"\"\"\n",
    "    s = len(data_df.columns)\n",
    "    f, axs = plt.subplots(s, 1, figsize=(8, s*5))\n",
    "    \n",
    "    for i in range(s):\n",
    "        lag_plot(data_df[data_df.columns[i]], ax=axs[i])\n",
    "        axs[i].set_title(data_df.columns[i]);\n",
    "        axs[i].set_ylabel('$y_{t+1}$');\n",
    "        axs[i].set_xlabel('$y_t$');\n",
    "\n",
    "    plt.tight_layout()"
   ]
  },
  {
   "cell_type": "code",
   "execution_count": 3,
   "metadata": {
    "id": "7JncSEReD2Rn"
   },
   "outputs": [],
   "source": [
    "def kpss_test(data_df):\n",
    "    \"\"\"\n",
    "    KKwiatkowski-Phillips-Schmidt-Shin (KPSS) test for stationarity\n",
    "    \n",
    "    \"\"\"\n",
    "    \n",
    "    test_stat, p_val = [], []\n",
    "    cv_1pct, cv_2p5pct, cv_5pct, cv_10pct = [], [], [], []\n",
    "    for c in data_df.columns: \n",
    "        kpss_res = kpss(data_df[c].dropna(), regression='ct')\n",
    "        test_stat.append(kpss_res[0])\n",
    "        p_val.append(kpss_res[1])\n",
    "        cv_1pct.append(kpss_res[3]['1%'])\n",
    "        cv_2p5pct.append(kpss_res[3]['2.5%'])\n",
    "        cv_5pct.append(kpss_res[3]['5%'])\n",
    "        cv_10pct.append(kpss_res[3]['10%'])\n",
    "    kpss_res_df = pd.DataFrame({'Test statistic': test_stat, \n",
    "                               'p-value': p_val, \n",
    "                               'Critical value - 1%': cv_1pct,\n",
    "                               'Critical value - 2.5%': cv_2p5pct,\n",
    "                               'Critical value - 5%': cv_5pct,\n",
    "                               'Critical value - 10%': cv_10pct}, \n",
    "                             index=data_df.columns).T\n",
    "    kpss_res_df = kpss_res_df.round(4)\n",
    "    \n",
    "    result = [] #compare p-value with alpha = 0.05\n",
    "    for col in kpss_res_df.columns:\n",
    "        if kpss_res_df.loc[\"p-value\", col] < 0.05:\n",
    "            result.append(\"not stationary\")\n",
    "        else:\n",
    "            result.append(\"stationary\")\n",
    "    kpss_res_df.loc['result'] = result\n",
    "    \n",
    "    return kpss_res_df"
   ]
  },
  {
   "cell_type": "code",
   "execution_count": 4,
   "metadata": {
    "id": "ehueaK21D3Fj"
   },
   "outputs": [],
   "source": [
    "def adf_test(data_df):\n",
    "    \"\"\"\n",
    "    Augmented Dickey-Fuller (ADF) test for stationarity\n",
    "    \"\"\"\n",
    "    \n",
    "    test_stat, p_val = [], []\n",
    "    cv_1pct, cv_5pct, cv_10pct = [], [], []\n",
    "    for c in data_df.columns: \n",
    "        adf_res = adfuller(data_df[c].dropna())\n",
    "        test_stat.append(adf_res[0])\n",
    "        p_val.append(adf_res[1])\n",
    "        cv_1pct.append(adf_res[4]['1%'])\n",
    "        cv_5pct.append(adf_res[4]['5%'])\n",
    "        cv_10pct.append(adf_res[4]['10%'])\n",
    "    adf_res_df = pd.DataFrame({'Test statistic': test_stat, \n",
    "                               'p-value': p_val, \n",
    "                               'Critical value - 1%': cv_1pct,\n",
    "                               'Critical value - 5%': cv_5pct,\n",
    "                               'Critical value - 10%': cv_10pct}, \n",
    "                             index=data_df.columns).T\n",
    "    adf_res_df = adf_res_df.round(4)\n",
    "\n",
    "    result = [] #compare p-value with alpha = 0.05\n",
    "    for col in adf_res_df.columns:\n",
    "        if adf_res_df.loc[\"p-value\", col] < 0.05:\n",
    "            result.append(\"stationary\")\n",
    "        else:\n",
    "            result.append(\"not stationary\")\n",
    "    adf_res_df.loc['result'] = result    \n",
    "    \n",
    "    return adf_res_df"
   ]
  },
  {
   "cell_type": "code",
   "execution_count": 5,
   "metadata": {
    "id": "bxQfGpGqD47n"
   },
   "outputs": [],
   "source": [
    "def splitter(data_df):\n",
    "    \"\"\"\n",
    "    Split dataset to set the first part as training set\n",
    "    and the second part as test set\n",
    "    \"\"\"\n",
    "    \n",
    "    end = round(len(data_df)*0.8)\n",
    "    train_df = data_df[:end]\n",
    "    test_df = data_df[end:]\n",
    "    \n",
    "    return train_df, test_df"
   ]
  },
  {
   "cell_type": "code",
   "execution_count": 6,
   "metadata": {
    "id": "npxzWq2YD7Wk"
   },
   "outputs": [],
   "source": [
    "def select_p(train_df):\n",
    "    \"\"\"\n",
    "    Select the VAR order  p  by computing the \n",
    "    different multivariate information criteria (AIC, BIC, HQIC), and FPE.\n",
    "    \"\"\"\n",
    "    \n",
    "    aic, bic, fpe, hqic = [], [], [], []\n",
    "    model = VAR(train_df) \n",
    "    p = np.arange(1,60)\n",
    "    for i in p:\n",
    "        result = model.fit(i)\n",
    "        aic.append(result.aic)\n",
    "        bic.append(result.bic)\n",
    "        fpe.append(result.fpe)\n",
    "        hqic.append(result.hqic)\n",
    "    lags_metrics_df = pd.DataFrame({'AIC': aic, \n",
    "                                    'BIC': bic, \n",
    "                                    'HQIC': hqic,\n",
    "                                    'FPE': fpe}, \n",
    "                                   index=p)    \n",
    "    fig, ax = plt.subplots(1, 4, figsize=(15, 3), sharex=True)\n",
    "    lags_metrics_df.plot(subplots=True, ax=ax, marker='o')\n",
    "    plt.tight_layout()\n",
    "    print(lags_metrics_df.idxmin(axis=0))"
   ]
  },
  {
   "cell_type": "code",
   "execution_count": 7,
   "metadata": {
    "id": "mzpJx-j6D_F-"
   },
   "outputs": [],
   "source": [
    "def granger_causation_matrix(data, variables, p, test = 'ssr_chi2test', verbose=False):\n",
    "    \n",
    "    \"\"\"\n",
    "    Check Granger Causality of all possible combinations of the time series.\n",
    "    The rows are the response variables, columns are predictors. The values in the table \n",
    "    are the P-Values. P-Values lesser than the significance level (0.05), implies \n",
    "    the Null Hypothesis that the coefficients of the corresponding past values is \n",
    "    zero, that is, the X does not cause Y can be rejected.\n",
    "\n",
    "    data      : pandas dataframe containing the time series variables\n",
    "    variables : list containing names of the time series variables.\n",
    "    \"\"\"\n",
    "    df = pd.DataFrame(np.zeros((len(variables), len(variables))), columns=variables, index=variables)\n",
    "    for c in df.columns:\n",
    "        for r in df.index:\n",
    "            test_result = grangercausalitytests(data[[r, c]], p, verbose=False)\n",
    "            p_values = [round(test_result[i+1][0][test][1],4) for i in range(p)]\n",
    "            if verbose: print(f'Y = {r}, X = {c}, P Values = {p_values}')\n",
    "            min_p_value = np.min(p_values)\n",
    "            df.loc[r, c] = min_p_value\n",
    "    df.columns = [var + '_x' for var in variables]\n",
    "    df.index = [var + '_y' for var in variables]\n",
    "    return df"
   ]
  },
  {
   "cell_type": "code",
   "execution_count": 8,
   "metadata": {
    "id": "6IPio-jnEBC3"
   },
   "outputs": [],
   "source": [
    "def granger_conclusion(df_granger_matrix):\n",
    "    x = df_granger_matrix.columns[0]\n",
    "    y = df_granger_matrix.index[1]\n",
    "\n",
    "    if df_granger_matrix.loc[y,x] < 0.05:\n",
    "        print(f\"{x} Granger causes {y}\")\n",
    "    else:\n",
    "        print(f\"{x} does NOT Granger {y}\")\n",
    "\n",
    "    x = df_granger_matrix.columns[1]\n",
    "    y = df_granger_matrix.index[0]\n",
    "\n",
    "    if df_granger_matrix.loc[y,x] < 0.05:\n",
    "        print(f\"{x} Granger causes {y}\")\n",
    "    else:\n",
    "        print(f\"{x} does NOT Granger {y}\")"
   ]
  },
  {
   "cell_type": "markdown",
   "metadata": {
    "id": "ccggTWE2aGHX"
   },
   "source": [
    "### Example 1: Does crude oil affect Tesla stock price?\n",
    "\n",
    "In this study, we will conduct Granger Causality Test between crude oil and the stock price of Tesla. It's interesting to find out if somehow oil prices is a good predictor of the movement of Tesla stock price."
   ]
  },
  {
   "cell_type": "markdown",
   "metadata": {
    "id": "ZDxBbHnuZ_yk"
   },
   "source": [
    "### Import your data\n",
    "\n",
    "Here we we will use the per minute time series data of crude oil and Tesla stock price on Oct 13, 2022."
   ]
  },
  {
   "cell_type": "code",
   "execution_count": 9,
   "metadata": {
    "colab": {
     "base_uri": "https://localhost:8080/"
    },
    "id": "uNMSxgVnENjc",
    "outputId": "39714261-dd98-44c6-e060-920217653d71"
   },
   "outputs": [
    {
     "name": "stdout",
     "output_type": "stream",
     "text": [
      "                           Crude Oil       Tesla\n",
      "Datetime                                        \n",
      "2022-10-13 09:30:00-04:00  86.570000  209.660004\n",
      "2022-10-13 09:31:00-04:00  86.760002  208.600006\n",
      "2022-10-13 09:32:00-04:00  86.650002  206.580002\n",
      "2022-10-13 09:33:00-04:00  86.870003  207.250000\n",
      "2022-10-13 09:34:00-04:00  87.040001  208.670105\n",
      "<class 'pandas.core.frame.DataFrame'>\n"
     ]
    }
   ],
   "source": [
    "import pandas as pd\n",
    "data = pd.read_csv(r'Data/Tesla_CrudeOil.csv')\n",
    "data = data.set_index('Datetime',drop=True)\n",
    "\n",
    "#rename columns\n",
    "data = data.rename(columns={'CL=F':'Crude Oil','TSLA':'Tesla'})\n",
    "# Print first 5 rows of the data\n",
    "print(data.head())\n",
    "print(type(data))"
   ]
  },
  {
   "cell_type": "markdown",
   "metadata": {},
   "source": [
    "Let's check if there are null data:"
   ]
  },
  {
   "cell_type": "code",
   "execution_count": 10,
   "metadata": {},
   "outputs": [
    {
     "data": {
      "text/plain": [
       "Crude Oil    0\n",
       "Tesla        0\n",
       "dtype: int64"
      ]
     },
     "execution_count": 10,
     "metadata": {},
     "output_type": "execute_result"
    }
   ],
   "source": [
    "data.isnull().sum()"
   ]
  },
  {
   "cell_type": "markdown",
   "metadata": {},
   "source": [
    "There are no null data, so the data is good. Next, we plot the data to get a sense on the movement of the process."
   ]
  },
  {
   "cell_type": "code",
   "execution_count": 11,
   "metadata": {
    "colab": {
     "base_uri": "https://localhost:8080/",
     "height": 585
    },
    "id": "L3xMTbAFk9-S",
    "outputId": "6b4455e3-33bc-4a41-c84f-3a6bf7c85821"
   },
   "outputs": [
    {
     "data": {
      "image/png": "[encoded data removed]",
      "text/plain": [
       "<Figure size 1080x576 with 2 Axes>"
      ]
     },
     "metadata": {
      "needs_background": "light"
     },
     "output_type": "display_data"
    }
   ],
   "source": [
    "fig,ax = plt.subplots(2, figsize=(15,8), sharex=True)\n",
    "plot_cols = ['Crude Oil', 'Tesla']\n",
    "data[plot_cols].plot(subplots=True, legend=True, ax=ax)\n",
    "for a in range(len(ax)): \n",
    "    ax[a].set_ylabel(plot_cols[a])\n",
    "ax[-1].set_xlabel('')\n",
    "plt.tight_layout()\n",
    "plt.show()"
   ]
  },
  {
   "cell_type": "markdown",
   "metadata": {
    "id": "L-CAK_0mhghL"
   },
   "source": [
    "Let's sense-check if the time series are stationary."
   ]
  },
  {
   "cell_type": "code",
   "execution_count": 12,
   "metadata": {
    "colab": {
     "base_uri": "https://localhost:8080/",
     "height": 729
    },
    "id": "wN3Bl0WMFxtE",
    "outputId": "c48168f3-c5f8-49fe-ed81-44135801a934"
   },
   "outputs": [
    {
     "data": {
      "image/png": "[encoded data removed]",
      "text/plain": [
       "<Figure size 576x720 with 2 Axes>"
      ]
     },
     "metadata": {
      "needs_background": "light"
     },
     "output_type": "display_data"
    }
   ],
   "source": [
    "lag_plots(data)"
   ]
  },
  {
   "cell_type": "markdown",
   "metadata": {
    "id": "OvIJ6HYriHvO"
   },
   "source": [
    "The plots show a trend, hence not stationary. For this to be stationary, we expect them to behave randomly. Let's confirm with ADF and KPSS tests."
   ]
  },
  {
   "cell_type": "code",
   "execution_count": 13,
   "metadata": {
    "colab": {
     "base_uri": "https://localhost:8080/",
     "height": 269
    },
    "id": "SLwZlERxbsVd",
    "outputId": "1aab5a0e-2b64-4bb8-dffb-33b8217bd7e0"
   },
   "outputs": [
    {
     "name": "stdout",
     "output_type": "stream",
     "text": [
      "ADF Test\n",
      "\n"
     ]
    },
    {
     "data": {
      "text/html": [
       "<div>\n",
       "<style scoped>\n",
       "    .dataframe tbody tr th:only-of-type {\n",
       "        vertical-align: middle;\n",
       "    }\n",
       "\n",
       "    .dataframe tbody tr th {\n",
       "        vertical-align: top;\n",
       "    }\n",
       "\n",
       "    .dataframe thead th {\n",
       "        text-align: right;\n",
       "    }\n",
       "</style>\n",
       "<table border=\"1\" class=\"dataframe\">\n",
       "  <thead>\n",
       "    <tr style=\"text-align: right;\">\n",
       "      <th></th>\n",
       "      <th>Crude Oil</th>\n",
       "      <th>Tesla</th>\n",
       "    </tr>\n",
       "  </thead>\n",
       "  <tbody>\n",
       "    <tr>\n",
       "      <th>Test statistic</th>\n",
       "      <td>-1.9924</td>\n",
       "      <td>-1.8577</td>\n",
       "    </tr>\n",
       "    <tr>\n",
       "      <th>p-value</th>\n",
       "      <td>0.2899</td>\n",
       "      <td>0.3522</td>\n",
       "    </tr>\n",
       "    <tr>\n",
       "      <th>Critical value - 1%</th>\n",
       "      <td>-3.4472</td>\n",
       "      <td>-3.4473</td>\n",
       "    </tr>\n",
       "    <tr>\n",
       "      <th>Critical value - 5%</th>\n",
       "      <td>-2.869</td>\n",
       "      <td>-2.869</td>\n",
       "    </tr>\n",
       "    <tr>\n",
       "      <th>Critical value - 10%</th>\n",
       "      <td>-2.5707</td>\n",
       "      <td>-2.5708</td>\n",
       "    </tr>\n",
       "    <tr>\n",
       "      <th>result</th>\n",
       "      <td>not stationary</td>\n",
       "      <td>not stationary</td>\n",
       "    </tr>\n",
       "  </tbody>\n",
       "</table>\n",
       "</div>"
      ],
      "text/plain": [
       "                           Crude Oil           Tesla\n",
       "Test statistic               -1.9924         -1.8577\n",
       "p-value                       0.2899          0.3522\n",
       "Critical value - 1%          -3.4472         -3.4473\n",
       "Critical value - 5%           -2.869          -2.869\n",
       "Critical value - 10%         -2.5707         -2.5708\n",
       "result                not stationary  not stationary"
      ]
     },
     "execution_count": 13,
     "metadata": {},
     "output_type": "execute_result"
    }
   ],
   "source": [
    "print('ADF Test\\n')\n",
    "adf_test(data)"
   ]
  },
  {
   "cell_type": "code",
   "execution_count": 14,
   "metadata": {
    "colab": {
     "base_uri": "https://localhost:8080/",
     "height": 300
    },
    "id": "LRqyA4EDjqz7",
    "outputId": "1ac0f11f-f534-4c4d-b94d-ce0074c97da2"
   },
   "outputs": [
    {
     "name": "stdout",
     "output_type": "stream",
     "text": [
      "KPSS Test\n",
      "\n"
     ]
    },
    {
     "data": {
      "text/html": [
       "<div>\n",
       "<style scoped>\n",
       "    .dataframe tbody tr th:only-of-type {\n",
       "        vertical-align: middle;\n",
       "    }\n",
       "\n",
       "    .dataframe tbody tr th {\n",
       "        vertical-align: top;\n",
       "    }\n",
       "\n",
       "    .dataframe thead th {\n",
       "        text-align: right;\n",
       "    }\n",
       "</style>\n",
       "<table border=\"1\" class=\"dataframe\">\n",
       "  <thead>\n",
       "    <tr style=\"text-align: right;\">\n",
       "      <th></th>\n",
       "      <th>Crude Oil</th>\n",
       "      <th>Tesla</th>\n",
       "    </tr>\n",
       "  </thead>\n",
       "  <tbody>\n",
       "    <tr>\n",
       "      <th>Test statistic</th>\n",
       "      <td>0.4814</td>\n",
       "      <td>0.4068</td>\n",
       "    </tr>\n",
       "    <tr>\n",
       "      <th>p-value</th>\n",
       "      <td>0.01</td>\n",
       "      <td>0.01</td>\n",
       "    </tr>\n",
       "    <tr>\n",
       "      <th>Critical value - 1%</th>\n",
       "      <td>0.216</td>\n",
       "      <td>0.216</td>\n",
       "    </tr>\n",
       "    <tr>\n",
       "      <th>Critical value - 2.5%</th>\n",
       "      <td>0.176</td>\n",
       "      <td>0.176</td>\n",
       "    </tr>\n",
       "    <tr>\n",
       "      <th>Critical value - 5%</th>\n",
       "      <td>0.146</td>\n",
       "      <td>0.146</td>\n",
       "    </tr>\n",
       "    <tr>\n",
       "      <th>Critical value - 10%</th>\n",
       "      <td>0.119</td>\n",
       "      <td>0.119</td>\n",
       "    </tr>\n",
       "    <tr>\n",
       "      <th>result</th>\n",
       "      <td>not stationary</td>\n",
       "      <td>not stationary</td>\n",
       "    </tr>\n",
       "  </tbody>\n",
       "</table>\n",
       "</div>"
      ],
      "text/plain": [
       "                            Crude Oil           Tesla\n",
       "Test statistic                 0.4814          0.4068\n",
       "p-value                          0.01            0.01\n",
       "Critical value - 1%             0.216           0.216\n",
       "Critical value - 2.5%           0.176           0.176\n",
       "Critical value - 5%             0.146           0.146\n",
       "Critical value - 10%            0.119           0.119\n",
       "result                 not stationary  not stationary"
      ]
     },
     "execution_count": 14,
     "metadata": {},
     "output_type": "execute_result"
    }
   ],
   "source": [
    "print('KPSS Test\\n')\n",
    "kpss_test(data)"
   ]
  },
  {
   "cell_type": "markdown",
   "metadata": {
    "id": "X7nWK8CnjwOP"
   },
   "source": [
    "Both ADF and KPSS tests show that they are not stationary. We do 1-differencing."
   ]
  },
  {
   "cell_type": "code",
   "execution_count": 15,
   "metadata": {
    "id": "FpeuLb_BGKbW"
   },
   "outputs": [],
   "source": [
    "data_diff1 = pd.DataFrame()\n",
    "data_diff1['Crude Oil'] = data['Crude Oil'] - data['Crude Oil'].shift(1)\n",
    "data_diff1['Tesla'] = data['Tesla'] - data['Tesla'].shift(1)\n",
    "data_diff1 = data_diff1.dropna()"
   ]
  },
  {
   "cell_type": "markdown",
   "metadata": {
    "id": "L8B-hgULkA2U"
   },
   "source": [
    "We check again if they are still not stationary"
   ]
  },
  {
   "cell_type": "code",
   "execution_count": 16,
   "metadata": {
    "colab": {
     "base_uri": "https://localhost:8080/",
     "height": 269
    },
    "id": "1HSDukv4kJeG",
    "outputId": "533169d2-3364-4a6f-9c83-9a3da787bd4b"
   },
   "outputs": [
    {
     "name": "stdout",
     "output_type": "stream",
     "text": [
      "ADF Test\n",
      "\n"
     ]
    },
    {
     "data": {
      "text/html": [
       "<div>\n",
       "<style scoped>\n",
       "    .dataframe tbody tr th:only-of-type {\n",
       "        vertical-align: middle;\n",
       "    }\n",
       "\n",
       "    .dataframe tbody tr th {\n",
       "        vertical-align: top;\n",
       "    }\n",
       "\n",
       "    .dataframe thead th {\n",
       "        text-align: right;\n",
       "    }\n",
       "</style>\n",
       "<table border=\"1\" class=\"dataframe\">\n",
       "  <thead>\n",
       "    <tr style=\"text-align: right;\">\n",
       "      <th></th>\n",
       "      <th>Crude Oil</th>\n",
       "      <th>Tesla</th>\n",
       "    </tr>\n",
       "  </thead>\n",
       "  <tbody>\n",
       "    <tr>\n",
       "      <th>Test statistic</th>\n",
       "      <td>-20.9399</td>\n",
       "      <td>-14.339</td>\n",
       "    </tr>\n",
       "    <tr>\n",
       "      <th>p-value</th>\n",
       "      <td>0.0</td>\n",
       "      <td>0.0</td>\n",
       "    </tr>\n",
       "    <tr>\n",
       "      <th>Critical value - 1%</th>\n",
       "      <td>-3.4473</td>\n",
       "      <td>-3.4473</td>\n",
       "    </tr>\n",
       "    <tr>\n",
       "      <th>Critical value - 5%</th>\n",
       "      <td>-2.869</td>\n",
       "      <td>-2.869</td>\n",
       "    </tr>\n",
       "    <tr>\n",
       "      <th>Critical value - 10%</th>\n",
       "      <td>-2.5707</td>\n",
       "      <td>-2.5708</td>\n",
       "    </tr>\n",
       "    <tr>\n",
       "      <th>result</th>\n",
       "      <td>stationary</td>\n",
       "      <td>stationary</td>\n",
       "    </tr>\n",
       "  </tbody>\n",
       "</table>\n",
       "</div>"
      ],
      "text/plain": [
       "                       Crude Oil       Tesla\n",
       "Test statistic          -20.9399     -14.339\n",
       "p-value                      0.0         0.0\n",
       "Critical value - 1%      -3.4473     -3.4473\n",
       "Critical value - 5%       -2.869      -2.869\n",
       "Critical value - 10%     -2.5707     -2.5708\n",
       "result                stationary  stationary"
      ]
     },
     "execution_count": 16,
     "metadata": {},
     "output_type": "execute_result"
    }
   ],
   "source": [
    "print('ADF Test\\n')\n",
    "adf_test(data_diff1)"
   ]
  },
  {
   "cell_type": "code",
   "execution_count": 17,
   "metadata": {
    "colab": {
     "base_uri": "https://localhost:8080/",
     "height": 300
    },
    "id": "qkEnUolPdD6B",
    "outputId": "e14cf1e2-06ff-4acf-c2b9-49e38598b08c"
   },
   "outputs": [
    {
     "name": "stdout",
     "output_type": "stream",
     "text": [
      "KPSS Test\n",
      "\n"
     ]
    },
    {
     "data": {
      "text/html": [
       "<div>\n",
       "<style scoped>\n",
       "    .dataframe tbody tr th:only-of-type {\n",
       "        vertical-align: middle;\n",
       "    }\n",
       "\n",
       "    .dataframe tbody tr th {\n",
       "        vertical-align: top;\n",
       "    }\n",
       "\n",
       "    .dataframe thead th {\n",
       "        text-align: right;\n",
       "    }\n",
       "</style>\n",
       "<table border=\"1\" class=\"dataframe\">\n",
       "  <thead>\n",
       "    <tr style=\"text-align: right;\">\n",
       "      <th></th>\n",
       "      <th>Crude Oil</th>\n",
       "      <th>Tesla</th>\n",
       "    </tr>\n",
       "  </thead>\n",
       "  <tbody>\n",
       "    <tr>\n",
       "      <th>Test statistic</th>\n",
       "      <td>0.0572</td>\n",
       "      <td>0.0664</td>\n",
       "    </tr>\n",
       "    <tr>\n",
       "      <th>p-value</th>\n",
       "      <td>0.1</td>\n",
       "      <td>0.1</td>\n",
       "    </tr>\n",
       "    <tr>\n",
       "      <th>Critical value - 1%</th>\n",
       "      <td>0.216</td>\n",
       "      <td>0.216</td>\n",
       "    </tr>\n",
       "    <tr>\n",
       "      <th>Critical value - 2.5%</th>\n",
       "      <td>0.176</td>\n",
       "      <td>0.176</td>\n",
       "    </tr>\n",
       "    <tr>\n",
       "      <th>Critical value - 5%</th>\n",
       "      <td>0.146</td>\n",
       "      <td>0.146</td>\n",
       "    </tr>\n",
       "    <tr>\n",
       "      <th>Critical value - 10%</th>\n",
       "      <td>0.119</td>\n",
       "      <td>0.119</td>\n",
       "    </tr>\n",
       "    <tr>\n",
       "      <th>result</th>\n",
       "      <td>stationary</td>\n",
       "      <td>stationary</td>\n",
       "    </tr>\n",
       "  </tbody>\n",
       "</table>\n",
       "</div>"
      ],
      "text/plain": [
       "                        Crude Oil       Tesla\n",
       "Test statistic             0.0572      0.0664\n",
       "p-value                       0.1         0.1\n",
       "Critical value - 1%         0.216       0.216\n",
       "Critical value - 2.5%       0.176       0.176\n",
       "Critical value - 5%         0.146       0.146\n",
       "Critical value - 10%        0.119       0.119\n",
       "result                 stationary  stationary"
      ]
     },
     "execution_count": 17,
     "metadata": {},
     "output_type": "execute_result"
    }
   ],
   "source": [
    "print('KPSS Test\\n')\n",
    "kpss_test(data_diff1)"
   ]
  },
  {
   "cell_type": "markdown",
   "metadata": {
    "id": "cTs_vLjrkoCZ"
   },
   "source": [
    "Both now shows stationary results. "
   ]
  },
  {
   "cell_type": "markdown",
   "metadata": {
    "id": "xXyc4GyEHBZU"
   },
   "source": [
    "We are ready to create our VAR model. Let's start by splitting our data into training and testing."
   ]
  },
  {
   "cell_type": "code",
   "execution_count": 18,
   "metadata": {
    "id": "lgmY_GEEG8ge"
   },
   "outputs": [],
   "source": [
    "train_df, test_df = splitter(data_diff1)"
   ]
  },
  {
   "cell_type": "markdown",
   "metadata": {
    "id": "42DL-4EAl1Y5"
   },
   "source": [
    "We then select the optimum VAR order $p$ by computing the different multivariate information criteria (AIC, BIC, HQIC) and FPE."
   ]
  },
  {
   "cell_type": "code",
   "execution_count": 19,
   "metadata": {
    "colab": {
     "base_uri": "https://localhost:8080/",
     "height": 310
    },
    "id": "uOIfJ-u3HKK_",
    "outputId": "c15c7466-5031-4577-90df-d6a8f5690823"
   },
   "outputs": [
    {
     "name": "stdout",
     "output_type": "stream",
     "text": [
      "AIC     4\n",
      "BIC     1\n",
      "HQIC    3\n",
      "FPE     4\n",
      "dtype: int64\n"
     ]
    },
    {
     "data": {
      "image/png": "[encoded data removed]",
      "text/plain": [
       "<Figure size 1080x216 with 4 Axes>"
      ]
     },
     "metadata": {
      "needs_background": "light"
     },
     "output_type": "display_data"
    }
   ],
   "source": [
    "select_p(train_df)"
   ]
  },
  {
   "cell_type": "markdown",
   "metadata": {
    "id": "_07fUnFFmgBb"
   },
   "source": [
    "**Result** The result the lowest value attained at around 3 or 4. In this case we will select 4.\n",
    "\n",
    "We now fit our VAR($p=4$) model."
   ]
  },
  {
   "cell_type": "code",
   "execution_count": 20,
   "metadata": {
    "id": "HTUbEFk0Hjl6"
   },
   "outputs": [],
   "source": [
    "p = 4\n",
    "model = VAR(train_df)\n",
    "var_model = model.fit(p)"
   ]
  },
  {
   "cell_type": "markdown",
   "metadata": {
    "id": "v6viUOR9ngQn"
   },
   "source": [
    "### Granger Causality Test"
   ]
  },
  {
   "cell_type": "markdown",
   "metadata": {
    "id": "xlWvsUcLnwhc"
   },
   "source": [
    "Let's now test the variables for Granger Causality"
   ]
  },
  {
   "cell_type": "code",
   "execution_count": 21,
   "metadata": {
    "colab": {
     "base_uri": "https://localhost:8080/",
     "height": 111
    },
    "id": "odz4OMq7m9Ep",
    "outputId": "242cf58b-ce12-4bed-e31e-ce3a04b8ec5d"
   },
   "outputs": [
    {
     "data": {
      "text/html": [
       "<div>\n",
       "<style scoped>\n",
       "    .dataframe tbody tr th:only-of-type {\n",
       "        vertical-align: middle;\n",
       "    }\n",
       "\n",
       "    .dataframe tbody tr th {\n",
       "        vertical-align: top;\n",
       "    }\n",
       "\n",
       "    .dataframe thead th {\n",
       "        text-align: right;\n",
       "    }\n",
       "</style>\n",
       "<table border=\"1\" class=\"dataframe\">\n",
       "  <thead>\n",
       "    <tr style=\"text-align: right;\">\n",
       "      <th></th>\n",
       "      <th>Crude Oil_x</th>\n",
       "      <th>Tesla_x</th>\n",
       "    </tr>\n",
       "  </thead>\n",
       "  <tbody>\n",
       "    <tr>\n",
       "      <th>Crude Oil_y</th>\n",
       "      <td>1.0000</td>\n",
       "      <td>0.1939</td>\n",
       "    </tr>\n",
       "    <tr>\n",
       "      <th>Tesla_y</th>\n",
       "      <td>0.0003</td>\n",
       "      <td>1.0000</td>\n",
       "    </tr>\n",
       "  </tbody>\n",
       "</table>\n",
       "</div>"
      ],
      "text/plain": [
       "             Crude Oil_x  Tesla_x\n",
       "Crude Oil_y       1.0000   0.1939\n",
       "Tesla_y           0.0003   1.0000"
      ]
     },
     "execution_count": 21,
     "metadata": {},
     "output_type": "execute_result"
    }
   ],
   "source": [
    "gmatrix = granger_causation_matrix(train_df,train_df.columns,p,test = 'ssr_ftest')\n",
    "gmatrix"
   ]
  },
  {
   "cell_type": "markdown",
   "metadata": {
    "id": "j6uvNo57rSsC"
   },
   "source": [
    "This table summarizes the Granger Causality test for the variables, showing the p-values under the null hypothesis that the column variable G-causes the row variable. \n",
    "\n",
    "Here we conclude that Crude Oil G-causes Tesla while Crude Oil does not G-cause Crude Oil given the respective p-values of 0.0003 and 0.1939, respectively, using $\\alpha=0.05$."
   ]
  },
  {
   "cell_type": "code",
   "execution_count": 22,
   "metadata": {
    "colab": {
     "base_uri": "https://localhost:8080/"
    },
    "id": "DwVAQfuerRlt",
    "outputId": "623b276b-f08c-47a3-d67e-7551ef076eb1"
   },
   "outputs": [
    {
     "name": "stdout",
     "output_type": "stream",
     "text": [
      "Crude Oil_x Granger causes Tesla_y\n",
      "Tesla_x does NOT Granger Crude Oil_y\n"
     ]
    }
   ],
   "source": [
    "granger_conclusion(gmatrix)"
   ]
  },
  {
   "cell_type": "markdown",
   "metadata": {},
   "source": [
    "Next, we will check the coefficients in our VAR Model to see how the variables affect one another."
   ]
  },
  {
   "cell_type": "code",
   "execution_count": 23,
   "metadata": {
    "colab": {
     "base_uri": "https://localhost:8080/"
    },
    "id": "zqdWbvJuoziF",
    "outputId": "9aa02105-078a-4146-f899-306a896ac895"
   },
   "outputs": [
    {
     "data": {
      "text/plain": [
       "  Summary of Regression Results   \n",
       "==================================\n",
       "Model:                         VAR\n",
       "Method:                        OLS\n",
       "Date:           Sat, 10, Dec, 2022\n",
       "Time:                     12:14:04\n",
       "--------------------------------------------------------------------\n",
       "No. of Equations:         2.00000    BIC:                   -6.14832\n",
       "Nobs:                     308.000    HQIC:                  -6.27915\n",
       "Log likelihood:           124.347    FPE:                 0.00171854\n",
       "AIC:                     -6.36632    Det(Omega_mle):      0.00162234\n",
       "--------------------------------------------------------------------\n",
       "Results for equation Crude Oil\n",
       "===============================================================================\n",
       "                  coefficient       std. error           t-stat            prob\n",
       "-------------------------------------------------------------------------------\n",
       "const                0.006689         0.005234            1.278           0.201\n",
       "L1.Crude Oil        -0.037799         0.064964           -0.582           0.561\n",
       "L1.Tesla            -0.000538         0.011563           -0.047           0.963\n",
       "L2.Crude Oil        -0.115451         0.064968           -1.777           0.076\n",
       "L2.Tesla             0.012286         0.011429            1.075           0.282\n",
       "L3.Crude Oil         0.083366         0.065115            1.280           0.200\n",
       "L3.Tesla            -0.014084         0.011138           -1.264           0.206\n",
       "L4.Crude Oil         0.024098         0.064811            0.372           0.710\n",
       "L4.Tesla             0.015941         0.010964            1.454           0.146\n",
       "===============================================================================\n",
       "\n",
       "Results for equation Tesla\n",
       "===============================================================================\n",
       "                  coefficient       std. error           t-stat            prob\n",
       "-------------------------------------------------------------------------------\n",
       "const                0.026058         0.029249            0.891           0.373\n",
       "L1.Crude Oil         0.544328         0.363004            1.500           0.134\n",
       "L1.Tesla            -0.110867         0.064612           -1.716           0.086\n",
       "L2.Crude Oil        -0.594446         0.363022           -1.637           0.102\n",
       "L2.Tesla             0.139744         0.063861            2.188           0.029\n",
       "L3.Crude Oil         1.157305         0.363848            3.181           0.001\n",
       "L3.Tesla            -0.121197         0.062237           -1.947           0.051\n",
       "L4.Crude Oil         0.181600         0.362150            0.501           0.616\n",
       "L4.Tesla             0.093641         0.061262            1.529           0.126\n",
       "===============================================================================\n",
       "\n",
       "Correlation matrix of residuals\n",
       "             Crude Oil     Tesla\n",
       "Crude Oil     1.000000  0.459882\n",
       "Tesla         0.459882  1.000000\n",
       "\n"
      ]
     },
     "execution_count": 23,
     "metadata": {},
     "output_type": "execute_result"
    }
   ],
   "source": [
    "var_model.summary()"
   ]
  },
  {
   "cell_type": "markdown",
   "metadata": {
    "id": "yJmlS_Rhujg0"
   },
   "source": [
    "This confirms our results earlier. The first table under 'Results for equation Crude Oil' shows the coefficients of the lagged values if dependent variable is Crude Oil. Note that no coefficient coming from Tesla is significant (p-value < 0.05) and hence, we cannot reject the hypothesis that Tesla stock price does not G-cause Crude Oil.\n",
    "\n",
    "On the other hand, the results for Tesla shows a lagged value of Crude Oil (L3.Crude Oil) has a significant p-value. Hence confirming that Crude Oil G-causes Tesla stock price."
   ]
  },
  {
   "cell_type": "markdown",
   "metadata": {},
   "source": [
    "### Example 2: Household Power Consumption\n",
    "\n",
    "Here we will use the Household Electric Power Consumption dataset found in https://www.kaggle.com/datasets/uciml/electric-power-consumption-data-set. We will check the Granger Causality among some variables."
   ]
  },
  {
   "cell_type": "code",
   "execution_count": 42,
   "metadata": {},
   "outputs": [],
   "source": [
    "DATA_PATH=r'Data/household_power_consumption.txt.zip'\n",
    "\n",
    "#Code below due to Marwell Dalangin\n",
    "import zipfile\n",
    "\n",
    "def preprocess_dataset(resolution):\n",
    "        \"\"\"Perform preprocessing of the dataset\n",
    "        Parameters\n",
    "        ----------\n",
    "        resolution (string)\n",
    "        - resolution (e.g., \"M\" - Monthly, \"W\" - Weekly, \"D\" - Daily)\n",
    "\n",
    "        Output\n",
    "        ----------\n",
    "        Time series data \n",
    "        \"\"\"\n",
    "        with zipfile.ZipFile(DATA_PATH) as power_z:\n",
    "            with power_z.open(\"household_power_consumption.txt\") as power_data:\n",
    "                # read the dataset from ./data/household_power_consumption.txt.zip\n",
    "                df = pd.read_csv(power_data,\n",
    "                                 sep=';',\n",
    "                                 parse_dates={'dt': ['Date', 'Time']},\n",
    "                                 infer_datetime_format=True,\n",
    "                                 low_memory=False,\n",
    "                                 na_values=['nan', '?'],\n",
    "                                 index_col='dt')\n",
    "        df.columns = [x.lower() for x in df.columns]\n",
    "\n",
    "        # features\n",
    "        relevant_columns = [\n",
    "            \"global_active_power\", \"global_reactive_power\", \"voltage\",\n",
    "            \"global_intensity\", \"sub_metering_1\", \"sub_metering_2\",\n",
    "            \"sub_metering_3\"\n",
    "        ]\n",
    "\n",
    "        # Handling missing values\n",
    "        for every_column in relevant_columns:\n",
    "            df[every_column] = df[every_column].interpolate()\n",
    "\n",
    "        # Computation for overall power consumtion\n",
    "        eq1 = (df['global_active_power'] * 1000 / 60)\n",
    "        eq2 = df['sub_metering_1'] + \\\n",
    "            df['sub_metering_2'] + df['sub_metering_3']\n",
    "        df['power_consumption'] = eq1 - eq2\n",
    "        relevant_columns = df.columns\n",
    "\n",
    "        # Aggregating level: \"M\" - Monthly, \"W\" - Weekly, \"D\" - Daily\n",
    "        df = df[relevant_columns].resample(resolution).sum()\n",
    "        df_power_consumption = df['power_consumption']\n",
    "        print(\"DONE: Data Preprocessing\")\n",
    "        return df\n"
   ]
  },
  {
   "cell_type": "markdown",
   "metadata": {},
   "source": [
    "Let's check how our data looks like. Here we will use the weekly aggregated data."
   ]
  },
  {
   "cell_type": "code",
   "execution_count": 25,
   "metadata": {},
   "outputs": [
    {
     "name": "stdout",
     "output_type": "stream",
     "text": [
      "DONE: Data Preprocessing\n",
      "            global_active_power  global_reactive_power     voltage  \\\n",
      "dt                                                                   \n",
      "2006-12-17             4599.636                260.928   439277.85   \n",
      "2006-12-24            17477.618               1176.174  2433008.21   \n",
      "2006-12-31            19749.552               1453.126  2438445.48   \n",
      "2007-01-07            14961.068               1348.954  2428490.09   \n",
      "2007-01-14            16179.547               1590.541  2421917.62   \n",
      "\n",
      "            global_intensity  sub_metering_1  sub_metering_2  sub_metering_3  \\\n",
      "dt                                                                             \n",
      "2006-12-17           19579.4          2033.0          4733.0         18267.0   \n",
      "2006-12-24           73994.4         11190.0         21351.0         77447.0   \n",
      "2006-12-31           83078.0         14312.0         22675.0         67272.0   \n",
      "2007-01-07           63122.2          5857.0         17599.0         54193.0   \n",
      "2007-01-14           68864.8         13420.0         18989.0         83372.5   \n",
      "\n",
      "            power_consumption  \n",
      "dt                             \n",
      "2006-12-17       51627.600000  \n",
      "2006-12-24      181305.633333  \n",
      "2006-12-31      224900.200000  \n",
      "2007-01-07      171702.133333  \n",
      "2007-01-14      153877.616667  \n"
     ]
    }
   ],
   "source": [
    "data = preprocess_dataset('W')\n",
    "print(data.head())"
   ]
  },
  {
   "cell_type": "markdown",
   "metadata": {},
   "source": [
    "It is interesting to check if the this test will tell us the expected conclusion that power consumption causes the sub-meter readings. Note that\n",
    "\n",
    "**sub_metering_1**: energy sub-metering (in watt-hour of active energy) that corresponds to the kitchen, containing mainly a dishwasher, an oven and a microwave (hot plates are not electric but gas powered).\n",
    "\n",
    "**sub_metering_2**: energy sub-metering (in watt-hour of active energy) that corresponds to the laundry room, containing a washing-machine, a tumble-drier, a refrigerator and a light.\n",
    "\n",
    "**sub_metering_3**: energy sub-metering (in watt-hour of active energy) that corresponds to an electric water-heater and an air-conditioner."
   ]
  },
  {
   "cell_type": "code",
   "execution_count": 26,
   "metadata": {},
   "outputs": [],
   "source": [
    "df1 = data[['sub_metering_1','power_consumption']]\n",
    "df2 = data[['sub_metering_2','power_consumption']]\n",
    "df3 = data[['sub_metering_3','power_consumption']]"
   ]
  },
  {
   "cell_type": "markdown",
   "metadata": {},
   "source": [
    "Let's check for data quality:"
   ]
  },
  {
   "cell_type": "code",
   "execution_count": 27,
   "metadata": {},
   "outputs": [
    {
     "name": "stdout",
     "output_type": "stream",
     "text": [
      "sub_metering_1       0\n",
      "power_consumption    0\n",
      "dtype: int64\n",
      "sub_metering_2       0\n",
      "power_consumption    0\n",
      "dtype: int64\n",
      "sub_metering_3       0\n",
      "power_consumption    0\n",
      "dtype: int64\n"
     ]
    }
   ],
   "source": [
    "print(df1.isnull().sum())\n",
    "print(df2.isnull().sum())\n",
    "print(df3.isnull().sum())"
   ]
  },
  {
   "cell_type": "markdown",
   "metadata": {},
   "source": [
    "We will check the Granger Causality against sub_metering1.\n",
    "\n",
    "As usual, let's plot the lag plots to see if stationary."
   ]
  },
  {
   "cell_type": "code",
   "execution_count": 28,
   "metadata": {},
   "outputs": [
    {
     "data": {
      "image/png": "[encoded data removed]",
      "text/plain": [
       "<Figure size 576x720 with 2 Axes>"
      ]
     },
     "metadata": {
      "needs_background": "light"
     },
     "output_type": "display_data"
    }
   ],
   "source": [
    "lag_plots(df1)"
   ]
  },
  {
   "cell_type": "markdown",
   "metadata": {},
   "source": [
    "Let's check how the plot of the actual value looks like"
   ]
  },
  {
   "cell_type": "code",
   "execution_count": 30,
   "metadata": {},
   "outputs": [
    {
     "data": {
      "text/plain": [
       "[<matplotlib.lines.Line2D at 0x7f7fd06d2100>,\n",
       " <matplotlib.lines.Line2D at 0x7f7fb288e940>]"
      ]
     },
     "execution_count": 30,
     "metadata": {},
     "output_type": "execute_result"
    },
    {
     "data": {
      "image/png": "[encoded data removed]",
      "text/plain": [
       "<Figure size 432x288 with 1 Axes>"
      ]
     },
     "metadata": {
      "needs_background": "light"
     },
     "output_type": "display_data"
    }
   ],
   "source": [
    "plt.plot(df1)"
   ]
  },
  {
   "cell_type": "markdown",
   "metadata": {},
   "source": [
    "Obviously, both dont look stationary, so we take the first difference."
   ]
  },
  {
   "cell_type": "code",
   "execution_count": 31,
   "metadata": {},
   "outputs": [],
   "source": [
    "data_diff1 = pd.DataFrame()\n",
    "data_diff1['sub_metering1'] = df1['sub_metering_1'] - df1['sub_metering_1'].shift(1)\n",
    "data_diff1['power_consumption'] = df1['power_consumption'] - df1['power_consumption'].shift(1)\n",
    "data_diff1 = data_diff1.dropna()"
   ]
  },
  {
   "cell_type": "markdown",
   "metadata": {},
   "source": [
    "Let's confirm with the ADF and KPSS tests if both are now stationary."
   ]
  },
  {
   "cell_type": "code",
   "execution_count": 34,
   "metadata": {},
   "outputs": [
    {
     "name": "stdout",
     "output_type": "stream",
     "text": [
      "ADF Test\n",
      "\n"
     ]
    },
    {
     "data": {
      "text/html": [
       "<div>\n",
       "<style scoped>\n",
       "    .dataframe tbody tr th:only-of-type {\n",
       "        vertical-align: middle;\n",
       "    }\n",
       "\n",
       "    .dataframe tbody tr th {\n",
       "        vertical-align: top;\n",
       "    }\n",
       "\n",
       "    .dataframe thead th {\n",
       "        text-align: right;\n",
       "    }\n",
       "</style>\n",
       "<table border=\"1\" class=\"dataframe\">\n",
       "  <thead>\n",
       "    <tr style=\"text-align: right;\">\n",
       "      <th></th>\n",
       "      <th>sub_metering1</th>\n",
       "      <th>power_consumption</th>\n",
       "    </tr>\n",
       "  </thead>\n",
       "  <tbody>\n",
       "    <tr>\n",
       "      <th>Test statistic</th>\n",
       "      <td>-17.1432</td>\n",
       "      <td>-5.0031</td>\n",
       "    </tr>\n",
       "    <tr>\n",
       "      <th>p-value</th>\n",
       "      <td>0.0</td>\n",
       "      <td>0.0</td>\n",
       "    </tr>\n",
       "    <tr>\n",
       "      <th>Critical value - 1%</th>\n",
       "      <td>-3.4628</td>\n",
       "      <td>-3.4636</td>\n",
       "    </tr>\n",
       "    <tr>\n",
       "      <th>Critical value - 5%</th>\n",
       "      <td>-2.8758</td>\n",
       "      <td>-2.8762</td>\n",
       "    </tr>\n",
       "    <tr>\n",
       "      <th>Critical value - 10%</th>\n",
       "      <td>-2.5744</td>\n",
       "      <td>-2.5746</td>\n",
       "    </tr>\n",
       "    <tr>\n",
       "      <th>result</th>\n",
       "      <td>stationary</td>\n",
       "      <td>stationary</td>\n",
       "    </tr>\n",
       "  </tbody>\n",
       "</table>\n",
       "</div>"
      ],
      "text/plain": [
       "                     sub_metering1 power_consumption\n",
       "Test statistic            -17.1432           -5.0031\n",
       "p-value                        0.0               0.0\n",
       "Critical value - 1%        -3.4628           -3.4636\n",
       "Critical value - 5%        -2.8758           -2.8762\n",
       "Critical value - 10%       -2.5744           -2.5746\n",
       "result                  stationary        stationary"
      ]
     },
     "execution_count": 34,
     "metadata": {},
     "output_type": "execute_result"
    }
   ],
   "source": [
    "print('ADF Test\\n')\n",
    "adf_test(data_diff1)"
   ]
  },
  {
   "cell_type": "code",
   "execution_count": 35,
   "metadata": {},
   "outputs": [
    {
     "name": "stdout",
     "output_type": "stream",
     "text": [
      "KPSS Test\n",
      "\n"
     ]
    },
    {
     "data": {
      "text/html": [
       "<div>\n",
       "<style scoped>\n",
       "    .dataframe tbody tr th:only-of-type {\n",
       "        vertical-align: middle;\n",
       "    }\n",
       "\n",
       "    .dataframe tbody tr th {\n",
       "        vertical-align: top;\n",
       "    }\n",
       "\n",
       "    .dataframe thead th {\n",
       "        text-align: right;\n",
       "    }\n",
       "</style>\n",
       "<table border=\"1\" class=\"dataframe\">\n",
       "  <thead>\n",
       "    <tr style=\"text-align: right;\">\n",
       "      <th></th>\n",
       "      <th>sub_metering1</th>\n",
       "      <th>power_consumption</th>\n",
       "    </tr>\n",
       "  </thead>\n",
       "  <tbody>\n",
       "    <tr>\n",
       "      <th>Test statistic</th>\n",
       "      <td>0.0522</td>\n",
       "      <td>0.0363</td>\n",
       "    </tr>\n",
       "    <tr>\n",
       "      <th>p-value</th>\n",
       "      <td>0.1</td>\n",
       "      <td>0.1</td>\n",
       "    </tr>\n",
       "    <tr>\n",
       "      <th>Critical value - 1%</th>\n",
       "      <td>0.216</td>\n",
       "      <td>0.216</td>\n",
       "    </tr>\n",
       "    <tr>\n",
       "      <th>Critical value - 2.5%</th>\n",
       "      <td>0.176</td>\n",
       "      <td>0.176</td>\n",
       "    </tr>\n",
       "    <tr>\n",
       "      <th>Critical value - 5%</th>\n",
       "      <td>0.146</td>\n",
       "      <td>0.146</td>\n",
       "    </tr>\n",
       "    <tr>\n",
       "      <th>Critical value - 10%</th>\n",
       "      <td>0.119</td>\n",
       "      <td>0.119</td>\n",
       "    </tr>\n",
       "    <tr>\n",
       "      <th>result</th>\n",
       "      <td>stationary</td>\n",
       "      <td>stationary</td>\n",
       "    </tr>\n",
       "  </tbody>\n",
       "</table>\n",
       "</div>"
      ],
      "text/plain": [
       "                      sub_metering1 power_consumption\n",
       "Test statistic               0.0522            0.0363\n",
       "p-value                         0.1               0.1\n",
       "Critical value - 1%           0.216             0.216\n",
       "Critical value - 2.5%         0.176             0.176\n",
       "Critical value - 5%           0.146             0.146\n",
       "Critical value - 10%          0.119             0.119\n",
       "result                   stationary        stationary"
      ]
     },
     "execution_count": 35,
     "metadata": {},
     "output_type": "execute_result"
    }
   ],
   "source": [
    "print('KPSS Test\\n')\n",
    "kpss_test(data_diff1)"
   ]
  },
  {
   "cell_type": "markdown",
   "metadata": {},
   "source": [
    "Checking also the plots"
   ]
  },
  {
   "cell_type": "code",
   "execution_count": 37,
   "metadata": {},
   "outputs": [
    {
     "data": {
      "text/plain": [
       "[<matplotlib.lines.Line2D at 0x7f7fa85dfee0>,\n",
       " <matplotlib.lines.Line2D at 0x7f7fa85f19d0>]"
      ]
     },
     "execution_count": 37,
     "metadata": {},
     "output_type": "execute_result"
    },
    {
     "data": {
      "image/png": "[encoded data removed]",
      "text/plain": [
       "<Figure size 432x288 with 1 Axes>"
      ]
     },
     "metadata": {
      "needs_background": "light"
     },
     "output_type": "display_data"
    }
   ],
   "source": [
    "plt.plot(data_diff1)"
   ]
  },
  {
   "cell_type": "code",
   "execution_count": 38,
   "metadata": {},
   "outputs": [
    {
     "data": {
      "image/png": "[encoded data removed]",
      "text/plain": [
       "<Figure size 576x720 with 2 Axes>"
      ]
     },
     "metadata": {
      "needs_background": "light"
     },
     "output_type": "display_data"
    }
   ],
   "source": [
    "lag_plots(data_diff1)"
   ]
  },
  {
   "cell_type": "markdown",
   "metadata": {},
   "source": [
    "Our data looks stationary now. Now, letCreating the var model"
   ]
  },
  {
   "cell_type": "code",
   "execution_count": 39,
   "metadata": {},
   "outputs": [
    {
     "name": "stdout",
     "output_type": "stream",
     "text": [
      "AIC     59\n",
      "BIC      2\n",
      "HQIC     2\n",
      "FPE     16\n",
      "dtype: int64\n"
     ]
    },
    {
     "data": {
      "image/png": "[encoded data removed]",
      "text/plain": [
       "<Figure size 1080x216 with 4 Axes>"
      ]
     },
     "metadata": {
      "needs_background": "light"
     },
     "output_type": "display_data"
    }
   ],
   "source": [
    "select_p(data_diff1)"
   ]
  },
  {
   "cell_type": "markdown",
   "metadata": {},
   "source": [
    "Let's use p = 16 on this for efficiency."
   ]
  },
  {
   "cell_type": "code",
   "execution_count": 40,
   "metadata": {},
   "outputs": [],
   "source": [
    "p = 16\n",
    "model = VAR(df1)\n",
    "var_model = model.fit(p)"
   ]
  },
  {
   "cell_type": "code",
   "execution_count": 41,
   "metadata": {},
   "outputs": [
    {
     "data": {
      "text/html": [
       "<div>\n",
       "<style scoped>\n",
       "    .dataframe tbody tr th:only-of-type {\n",
       "        vertical-align: middle;\n",
       "    }\n",
       "\n",
       "    .dataframe tbody tr th {\n",
       "        vertical-align: top;\n",
       "    }\n",
       "\n",
       "    .dataframe thead th {\n",
       "        text-align: right;\n",
       "    }\n",
       "</style>\n",
       "<table border=\"1\" class=\"dataframe\">\n",
       "  <thead>\n",
       "    <tr style=\"text-align: right;\">\n",
       "      <th></th>\n",
       "      <th>sub_metering_1_x</th>\n",
       "      <th>power_consumption_x</th>\n",
       "    </tr>\n",
       "  </thead>\n",
       "  <tbody>\n",
       "    <tr>\n",
       "      <th>sub_metering_1_y</th>\n",
       "      <td>1.0000</td>\n",
       "      <td>0.0132</td>\n",
       "    </tr>\n",
       "    <tr>\n",
       "      <th>power_consumption_y</th>\n",
       "      <td>0.0001</td>\n",
       "      <td>1.0000</td>\n",
       "    </tr>\n",
       "  </tbody>\n",
       "</table>\n",
       "</div>"
      ],
      "text/plain": [
       "                     sub_metering_1_x  power_consumption_x\n",
       "sub_metering_1_y               1.0000               0.0132\n",
       "power_consumption_y            0.0001               1.0000"
      ]
     },
     "execution_count": 41,
     "metadata": {},
     "output_type": "execute_result"
    }
   ],
   "source": [
    "gmatrix = granger_causation_matrix(df1,df1.columns,p,test = 'ssr_ftest')\n",
    "gmatrix"
   ]
  },
  {
   "cell_type": "markdown",
   "metadata": {},
   "source": [
    "**Result**: Here we see that at 5% confidence level, both variables G-causes the other, implying the presence of a feedback.\n",
    "\n",
    "As expected, power consumption G-case the sub-meter 1 reading. The other direction needs caution. As  mentioned, this causality test does not imply causality at all, so even though sub_metering1 G-causes power consumption, it does not imply that sub-meter 1 causes power_consumption, the reason may just be that two processes are highly linearly-correlated.\n",
    "\n",
    "I will leave to the reader to continue the test with sub_metering2 and sub_metering3."
   ]
  },
  {
   "cell_type": "markdown",
   "metadata": {
    "id": "vuWq_uhDnfLv"
   },
   "source": [
    "References\n",
    "\n",
    "1. Granger, C. (1969). Investigating Causal Relations by Econometric Models and Cross-spectral Methods. Econometrica, 37(3), 424-438.\n",
    "2. Leamer, Edward E. (1985). \"Vector Autoregressions for Causal Inference?\". Carnegie-Rochester Conference Series on Public Policy.\n",
    "3. Time Series Analysis Handbook: https://phdinds-aim.github.io/time_series_handbook/04_GrangerCausality/04_GrangerCausality.html"
   ]
  }
 ],
 "metadata": {
  "colab": {
   "provenance": []
  },
  "kernelspec": {
   "display_name": "Python 3",
   "language": "python",
   "name": "python3"
  },
  "language_info": {
   "codemirror_mode": {
    "name": "ipython",
    "version": 3
   },
   "file_extension": ".py",
   "mimetype": "text/x-python",
   "name": "python",
   "nbconvert_exporter": "python",
   "pygments_lexer": "ipython3",
   "version": "3.8.8"
  }
 },
 "nbformat": 4,
 "nbformat_minor": 1
}
